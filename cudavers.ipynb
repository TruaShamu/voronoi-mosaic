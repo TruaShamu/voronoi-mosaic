{
  "cells": [
    {
      "cell_type": "code",
      "execution_count": 15,
      "metadata": {
        "colab": {
          "base_uri": "https://localhost:8080/"
        },
        "id": "04i74cfWhG8x",
        "outputId": "4db37f3b-ddfc-414f-e593-fb59380014dc"
      },
      "outputs": [
        {
          "name": "stdout",
          "output_type": "stream",
          "text": [
            "Seeds generated\n",
            "Voronoi diagram generated\n",
            "Region colors generated\n",
            "Time taken with GPU:  10.014613151550293\n"
          ]
        }
      ],
      "source": [
        "import cv2\n",
        "import numpy as np\n",
        "import random\n",
        "import math\n",
        "import time\n",
        "import cupy as cp\n",
        "\n",
        "class VoronoiMosaicGPU:\n",
        "    def __init__(self, input_image):\n",
        "        self.input_image = cp.array(input_image)\n",
        "        self.region_assignment = None\n",
        "        self.output_image = None\n",
        "\n",
        "    # Generate seeds for the Voronoi diagram\n",
        "    def generate_seeds(self, num_seeds):\n",
        "        h, w = self.input_image.shape[:2]\n",
        "        seeds = cp.column_stack((\n",
        "            cp.random.randint(0, w, num_seeds),\n",
        "            cp.random.randint(0, h, num_seeds)\n",
        "        ))\n",
        "        return seeds\n",
        "\n",
        "    # Generate the Voronoi diagram\n",
        "    def voronoi(self, seeds):\n",
        "        height, width = self.input_image.shape[:2]\n",
        "        points = cp.mgrid[0:height, 0:width].transpose(1, 2, 0).reshape(-1, 2)\n",
        "\n",
        "        num_seeds = seeds.shape[0]\n",
        "        batch_size = 100  # Process 100 seeds at a time\n",
        "        region_assignment = cp.zeros(points.shape[0], dtype=cp.int32)\n",
        "        min_distances = cp.full(points.shape[0], cp.inf)\n",
        "\n",
        "        for i in range(0, num_seeds, batch_size):\n",
        "            batch_seeds = seeds[i:i + batch_size]\n",
        "            distances = cp.sum((points[..., cp.newaxis, :] - batch_seeds) ** 2, axis=-1)\n",
        "            batch_min_indices = cp.argmin(distances, axis=-1)\n",
        "            batch_min_distances = cp.min(distances, axis=-1)\n",
        "\n",
        "            # Update global region_assignment and min_distances\n",
        "            mask = batch_min_distances < min_distances\n",
        "            region_assignment[mask] = batch_min_indices[mask] + i\n",
        "            min_distances[mask] = batch_min_distances[mask]\n",
        "\n",
        "        self.region_assignment = region_assignment.reshape(height, width)\n",
        "\n",
        "    # Assign colors to each region\n",
        "    def region_color(self, num_seeds):\n",
        "        region_colors = cp.zeros((num_seeds, 3), dtype=cp.uint8)\n",
        "        for i in range(num_seeds):\n",
        "            mask = self.region_assignment == i\n",
        "            if cp.any(mask):\n",
        "                pixels = self.input_image[mask]\n",
        "                region_colors[i] = cp.mean(pixels, axis=0)\n",
        "        return region_colors.get()\n",
        "\n",
        "    # Generate the Voronoi mosaic\n",
        "    def generate_mosaic(self, num_seeds):\n",
        "        seeds = self.generate_seeds(num_seeds)\n",
        "        print(\"Seeds generated\")\n",
        "        self.voronoi(seeds)\n",
        "        print(\"Voronoi diagram generated\")\n",
        "        region_colors = self.region_color(num_seeds)\n",
        "        print(\"Region colors generated\")\n",
        "        self.output_image = cp.asnumpy(region_colors)[cp.asnumpy(self.region_assignment)]\n",
        "        return self.output_image\n",
        "\n",
        "time_init = time.time()\n",
        "\n",
        "# Read the image and move it to the GPU\n",
        "image = cv2.imread('lena.png')\n",
        "\n",
        "# Create Voronoi mosaic object\n",
        "voronoi_mosaic = VoronoiMosaicGPU(image)\n",
        "\n",
        "# Generate the mosaic with 1000 seeds\n",
        "output_image = voronoi_mosaic.generate_mosaic(3000)\n",
        "\n",
        "# Save the output image\n",
        "cv2.imwrite('output_gpu.jpg', output_image)\n",
        "\n",
        "print(\"Time taken with GPU: \", time.time() - time_init)\n"
      ]
    }
  ],
  "metadata": {
    "accelerator": "GPU",
    "colab": {
      "gpuType": "T4",
      "provenance": []
    },
    "kernelspec": {
      "display_name": "Python 3",
      "name": "python3"
    },
    "language_info": {
      "name": "python"
    }
  },
  "nbformat": 4,
  "nbformat_minor": 0
}
